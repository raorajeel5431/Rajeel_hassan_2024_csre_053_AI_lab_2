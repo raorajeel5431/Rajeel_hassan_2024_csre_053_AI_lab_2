{
 "cells": [
  {
   "cell_type": "code",
   "execution_count": null,
   "id": "5d78962d-898d-404d-abbb-8906a71d9983",
   "metadata": {},
   "outputs": [],
   "source": [
    "# --- Task 1: Greater Number ---\n",
    "# Input two integers and compare \n",
    "a= int(input(\"Enter first number: \"))\n",
    "b= int(input(\"Enter second number: \"))\n",
    "\n",
    "if a > b:\n",
    "    print(\"Greater number: \",a)\n",
    "elif b > a:\n",
    "    print(\"Greater number: \",b)\n",
    "else:\n",
    "   print(\"Both are equal :\",a)"
   ]
  },
  {
   "cell_type": "code",
   "execution_count": 1,
   "id": "4ae8b1ac-4760-44c9-9ba9-4ca0d06ce0e2",
   "metadata": {},
   "outputs": [
    {
     "name": "stdin",
     "output_type": "stream",
     "text": [
      "Enter marks (0-100):  50\n"
     ]
    },
    {
     "name": "stdout",
     "output_type": "stream",
     "text": [
      "Grade C - Pass\n"
     ]
    }
   ],
   "source": [
    "#Task 2\n",
    "# Input marks  (0-100) and print grade\n",
    "\n",
    "marks = int (input(\"Enter marks (0-100): \"))\n",
    "\n",
    "if marks < 0 or marks > 100:\n",
    "    print(\"Invalid marks. Please enter between 0 and 100. \")\n",
    "elif marks >= 80:\n",
    "    print(\"Grade A - Excellent\")\n",
    "elif marks >= 60:\n",
    "    print(\"Grade B - Good\")\n",
    "elif marks >= 50:\n",
    "    print(\"Grade C - Pass\")\n",
    "else:\n",
    "    print(\"Fail - Needs Improvement\")\n",
    "    "
   ]
  },
  {
   "cell_type": "code",
   "execution_count": 2,
   "id": "3efe6dba-f8b2-4dba-833c-ea9e3da51cb8",
   "metadata": {},
   "outputs": [
    {
     "name": "stdin",
     "output_type": "stream",
     "text": [
      "Enter a number:  3\n"
     ]
    },
    {
     "name": "stdout",
     "output_type": "stream",
     "text": [
      "3 is Odd\n"
     ]
    }
   ],
   "source": [
    "#Task 3\n",
    "n = int(input(\"Enter a number: \"))\n",
    "\n",
    "if n % 2 == 0:\n",
    "    print(n, \"is Even\")\n",
    "else:\n",
    "    print(n, \"is Odd\")"
   ]
  },
  {
   "cell_type": "code",
   "execution_count": 3,
   "id": "449e271c-ca4e-4306-80cf-e57a964466e8",
   "metadata": {},
   "outputs": [
    {
     "name": "stdin",
     "output_type": "stream",
     "text": [
      "Username:  rao\n",
      "Password:  1111123456\n"
     ]
    },
    {
     "name": "stdout",
     "output_type": "stream",
     "text": [
      "Invalid credentials. Attempts left: 2\n"
     ]
    },
    {
     "name": "stdin",
     "output_type": "stream",
     "text": [
      "Username:  rajeel\n",
      "Password:  0987\n"
     ]
    },
    {
     "name": "stdout",
     "output_type": "stream",
     "text": [
      "Invalid credentials. Attempts left: 1\n"
     ]
    },
    {
     "name": "stdin",
     "output_type": "stream",
     "text": [
      "Username:  rao\n",
      "Password:  5678\n"
     ]
    },
    {
     "name": "stdout",
     "output_type": "stream",
     "text": [
      "Invalid credentials. Attempts left: 0\n",
      "Account locked (demo). Please try later.\n"
     ]
    }
   ],
   "source": [
    "#task 4\n",
    "CORRECT_USER = \"admin\"\n",
    "CORRECT_PASS = \"1234\"\n",
    "attempts = 3\n",
    "\n",
    "while attempts > 0:\n",
    "    u = input(\"Username: \")\n",
    "    p = input(\"Password: \")\n",
    "\n",
    "    if u == CORRECT_USER and p == CORRECT_PASS:\n",
    "        print(\"Login Successful\")\n",
    "        break\n",
    "    else:\n",
    "        attempts -= 1\n",
    "        print(\"Invalid credentials. Attempts left:\", attempts)\n",
    "\n",
    "if attempts == 0:\n",
    "    print(\"Account locked (demo). Please try later.\")"
   ]
  },
  {
   "cell_type": "code",
   "execution_count": 4,
   "id": "e3ad5f57-29a9-4d6c-a35f-aad93274857a",
   "metadata": {},
   "outputs": [
    {
     "name": "stdin",
     "output_type": "stream",
     "text": [
      "Enter a number for table:  3\n"
     ]
    },
    {
     "name": "stdout",
     "output_type": "stream",
     "text": [
      "3 x 1 = 3\n",
      "3 x 2 = 6\n",
      "3 x 3 = 9\n",
      "3 x 4 = 12\n",
      "3 x 5 = 15\n",
      "3 x 6 = 18\n",
      "3 x 7 = 21\n",
      "3 x 8 = 24\n",
      "3 x 9 = 27\n",
      "3 x 10 = 30\n"
     ]
    }
   ],
   "source": [
    "#Task 5 \n",
    "num = int(input(\"Enter a number for table: \"))\n",
    "\n",
    "for i in range(1, 11):\n",
    "    print(f\"{num} x {i} = {num * i}\")"
   ]
  },
  {
   "cell_type": "code",
   "execution_count": 7,
   "id": "a0116bec-52d9-4921-9dff-6546412ed23c",
   "metadata": {},
   "outputs": [
    {
     "name": "stdout",
     "output_type": "stream",
     "text": [
      "I'm thinking of a number between 1 and 20...\n"
     ]
    },
    {
     "name": "stdin",
     "output_type": "stream",
     "text": [
      "Your guess:  4\n"
     ]
    },
    {
     "name": "stdout",
     "output_type": "stream",
     "text": [
      "Too low, try again.\n"
     ]
    },
    {
     "name": "stdin",
     "output_type": "stream",
     "text": [
      "Your guess:  10\n"
     ]
    },
    {
     "name": "stdout",
     "output_type": "stream",
     "text": [
      "Too high, try again.\n"
     ]
    },
    {
     "name": "stdin",
     "output_type": "stream",
     "text": [
      "Your guess:  5\n"
     ]
    },
    {
     "name": "stdout",
     "output_type": "stream",
     "text": [
      "Too low, try again.\n"
     ]
    },
    {
     "name": "stdin",
     "output_type": "stream",
     "text": [
      "Your guess:  8\n"
     ]
    },
    {
     "name": "stdout",
     "output_type": "stream",
     "text": [
      "Too low, try again.\n"
     ]
    },
    {
     "name": "stdin",
     "output_type": "stream",
     "text": [
      "Your guess:  3\n"
     ]
    },
    {
     "name": "stdout",
     "output_type": "stream",
     "text": [
      "Too low, try again.\n"
     ]
    },
    {
     "name": "stdin",
     "output_type": "stream",
     "text": [
      "Your guess:  1\n"
     ]
    },
    {
     "name": "stdout",
     "output_type": "stream",
     "text": [
      "Too low, try again.\n"
     ]
    },
    {
     "name": "stdin",
     "output_type": "stream",
     "text": [
      "Your guess:  9\n"
     ]
    },
    {
     "name": "stdout",
     "output_type": "stream",
     "text": [
      "Correct! You guessed it.\n"
     ]
    }
   ],
   "source": [
    "#Task 6\n",
    "import random\n",
    "secret = random.randint(1, 20)  # secret number in [1, 20)\n",
    "print(\"I'm thinking of a number between 1 and 20...\")\n",
    "\n",
    "while True:\n",
    "    guess = int(input(\"Your guess: \"))\n",
    "\n",
    "    if guess == secret:\n",
    "        print(\"Correct! You guessed it.\")\n",
    "        break\n",
    "    elif guess < secret:\n",
    "        print(\"Too low, try again.\")\n",
    "    else:\n",
    "        print(\"Too high, try again.\")"
   ]
  },
  {
   "cell_type": "code",
   "execution_count": null,
   "id": "1f4183fd-24df-47a2-bf2c-ba66848b5581",
   "metadata": {},
   "outputs": [],
   "source": []
  }
 ],
 "metadata": {
  "kernelspec": {
   "display_name": "Python 3 (ipykernel)",
   "language": "python",
   "name": "python3"
  },
  "language_info": {
   "codemirror_mode": {
    "name": "ipython",
    "version": 3
   },
   "file_extension": ".py",
   "mimetype": "text/x-python",
   "name": "python",
   "nbconvert_exporter": "python",
   "pygments_lexer": "ipython3",
   "version": "3.13.5"
  }
 },
 "nbformat": 4,
 "nbformat_minor": 5
}
